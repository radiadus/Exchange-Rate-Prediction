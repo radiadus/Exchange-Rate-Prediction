{
 "cells": [
  {
   "cell_type": "markdown",
   "metadata": {
    "id": "RABqz1c47nYk"
   },
   "source": [
    "Import library yang diperlukan, untuk kasus ini saya menggunakan google colab"
   ]
  },
  {
   "cell_type": "code",
   "execution_count": 58,
   "metadata": {
    "id": "ECfJJ3ARozhY"
   },
   "outputs": [],
   "source": [
    "%tensorflow_version 2.x\n",
    "\n",
    "from tensorflow import keras\n",
    "import math\n",
    "import numpy as np\n",
    "import pandas as pd\n",
    "from sklearn.preprocessing import MinMaxScaler\n",
    "import matplotlib.pyplot as plt"
   ]
  },
  {
   "cell_type": "markdown",
   "metadata": {
    "id": "uAQk6Fp873Z7"
   },
   "source": [
    "Read data dan melakukan inverse data"
   ]
  },
  {
   "cell_type": "code",
   "execution_count": 59,
   "metadata": {
    "colab": {
     "base_uri": "https://localhost:8080/"
    },
    "id": "M5Ui8-OWpwiO",
    "outputId": "0db6cfd1-1434-4f8b-cd1c-3539839a98c9"
   },
   "outputs": [
    {
     "name": "stdout",
     "output_type": "stream",
     "text": [
      "             Price    Open    High     Low  Change %\n",
      "Date                                                \n",
      "1980-01-02   8.000   8.000   8.000   8.000      0.00\n",
      "1980-01-03   7.950   7.950   7.950   7.950     -0.63\n",
      "1980-01-04   8.050   8.050   8.050   8.050      1.26\n",
      "1980-01-07   8.050   8.050   8.050   8.050      0.00\n",
      "1980-01-08   8.050   8.050   8.050   8.050      0.00\n",
      "...            ...     ...     ...     ...       ...\n",
      "2017-08-04  63.675  63.670  63.786  63.572     -0.05\n",
      "2017-08-07  63.840  63.710  63.865  63.648      0.26\n",
      "2017-08-08  63.692  63.750  63.785  63.615     -0.23\n",
      "2017-08-09  63.860  63.780  63.860  63.710      0.26\n",
      "2017-08-10  64.165  63.898  64.175  63.855      0.48\n",
      "\n",
      "[9697 rows x 5 columns]\n"
     ]
    }
   ],
   "source": [
    "data = pd.read_csv('USD_INR.csv', index_col='Date')\n",
    "data.index = pd.to_datetime(data.index)\n",
    "data = data.iloc[::-1]\n",
    "print(data)"
   ]
  },
  {
   "cell_type": "code",
   "execution_count": 60,
   "metadata": {
    "colab": {
     "base_uri": "https://localhost:8080/",
     "height": 279
    },
    "id": "CMme4qCPrS77",
    "outputId": "163dd22d-b933-4d74-b784-0178f13bb68d"
   },
   "outputs": [
    {
     "data": {
      "image/png": "[encoded data removed]",
      "text/plain": [
       "<Figure size 432x288 with 1 Axes>"
      ]
     },
     "metadata": {
      "needs_background": "light",
      "tags": []
     },
     "output_type": "display_data"
    }
   ],
   "source": [
    "plt.plot(data['Price'])\n",
    "plt.xlabel('Date')\n",
    "plt.ylabel('Price')\n",
    "plt.show()"
   ]
  },
  {
   "cell_type": "markdown",
   "metadata": {
    "id": "lnCLPhme8Gmy"
   },
   "source": [
    "Mengambil data 'Price' kemudian Split data menjadi 80% training dan 20% testing"
   ]
  },
  {
   "cell_type": "code",
   "execution_count": 61,
   "metadata": {
    "colab": {
     "base_uri": "https://localhost:8080/"
    },
    "id": "TWdgP7UBs3IH",
    "outputId": "fa35f8dc-2545-4a34-9e8d-2db0153b592d"
   },
   "outputs": [
    {
     "data": {
      "text/plain": [
       "7758"
      ]
     },
     "execution_count": 61,
     "metadata": {
      "tags": []
     },
     "output_type": "execute_result"
    }
   ],
   "source": [
    "data = data.filter(['Price'])\n",
    "dataset = data.values\n",
    "training_data = math.ceil(len(dataset) * 0.8)\n",
    "\n",
    "training_data"
   ]
  },
  {
   "cell_type": "markdown",
   "metadata": {
    "id": "PGnIatyc8QE9"
   },
   "source": [
    "Melakukan scaling dengan MinMaxScaler"
   ]
  },
  {
   "cell_type": "code",
   "execution_count": 62,
   "metadata": {
    "colab": {
     "base_uri": "https://localhost:8080/"
    },
    "id": "Cls-u00OtwEx",
    "outputId": "e3f7669c-71b0-4248-e299-ac5e2744ceab"
   },
   "outputs": [
    {
     "data": {
      "text/plain": [
       "array([[0.00523517],\n",
       "       [0.00441718],\n",
       "       [0.00605317],\n",
       "       ...,\n",
       "       [0.91635174],\n",
       "       [0.9191002 ],\n",
       "       [0.92408998]])"
      ]
     },
     "execution_count": 62,
     "metadata": {
      "tags": []
     },
     "output_type": "execute_result"
    }
   ],
   "source": [
    "scaler = MinMaxScaler(feature_range=(0,1))\n",
    "scaled_data = scaler.fit_transform(dataset)\n",
    "\n",
    "scaled_data"
   ]
  },
  {
   "cell_type": "markdown",
   "metadata": {
    "id": "hMnHBDhg8ZJ1"
   },
   "source": [
    "Melakukan windowing dengan ukuran window 50"
   ]
  },
  {
   "cell_type": "code",
   "execution_count": 63,
   "metadata": {
    "colab": {
     "base_uri": "https://localhost:8080/"
    },
    "id": "3OdJrZiZvGjC",
    "outputId": "5dfbee6b-6e41-48e7-af37-87968e957fe2"
   },
   "outputs": [
    {
     "name": "stdout",
     "output_type": "stream",
     "text": [
      "[array([0.00523517, 0.00441718, 0.00605317, 0.00605317, 0.00605317,\n",
      "       0.00523517, 0.00523517, 0.00572597, 0.00572597, 0.00359918,\n",
      "       0.00359918, 0.00458078, 0.00278119, 0.00408998, 0.00490798,\n",
      "       0.00523517, 0.00523517, 0.00523517, 0.00523517, 0.00523517,\n",
      "       0.00523517, 0.00621677, 0.00588957, 0.00588957, 0.00523517,\n",
      "       0.00458078, 0.00392638, 0.00278119, 0.00359918, 0.00359918,\n",
      "       0.00359918, 0.00392638, 0.00490798, 0.00523517, 0.00523517,\n",
      "       0.00523517, 0.00605317, 0.00605317, 0.00556237, 0.00621677,\n",
      "       0.00621677, 0.00654397, 0.00654397, 0.00687117, 0.00736196,\n",
      "       0.00736196, 0.00736196, 0.00768916, 0.00736196, 0.00736196])]\n",
      "[0.008016359918200405]\n"
     ]
    }
   ],
   "source": [
    "train_data = scaled_data[0:training_data,:]\n",
    "x_train = []\n",
    "y_train = []\n",
    "for i in range(50, len(train_data)):\n",
    "  x_train.append(train_data[i-50:i, 0])\n",
    "  y_train.append(train_data[i, 0])\n",
    "  if i<51:\n",
    "    print(x_train)\n",
    "    print(y_train)"
   ]
  },
  {
   "cell_type": "code",
   "execution_count": 64,
   "metadata": {
    "colab": {
     "base_uri": "https://localhost:8080/"
    },
    "id": "E_SuF1v0wKvf",
    "outputId": "63ec3f7e-9de7-46c7-b79e-1f11e28e2349"
   },
   "outputs": [
    {
     "data": {
      "text/plain": [
       "(7708, 50, 1)"
      ]
     },
     "execution_count": 64,
     "metadata": {
      "tags": []
     },
     "output_type": "execute_result"
    }
   ],
   "source": [
    "x_train, y_train = np.array(x_train), np.array(y_train)\n",
    "x_train = np.reshape(x_train, (x_train.shape[0], x_train.shape[1], 1))\n",
    "x_train.shape"
   ]
  },
  {
   "cell_type": "markdown",
   "metadata": {
    "id": "reDADHNg8nk8"
   },
   "source": [
    "Membuat model dan fit model"
   ]
  },
  {
   "cell_type": "code",
   "execution_count": 65,
   "metadata": {
    "id": "GiaeaiFXwnZX"
   },
   "outputs": [],
   "source": [
    "model = keras.Sequential()\n",
    "model.add(keras.layers.LSTM(50, return_sequences=True, input_shape=(x_train.shape[1], x_train.shape[2])))\n",
    "model.add(keras.layers.LSTM(50, return_sequences=False))\n",
    "model.add(keras.layers.Dense(25))\n",
    "model.add(keras.layers.Dense(1))\n",
    "model.compile(loss='mean_squared_error', optimizer=keras.optimizers.Adam(0.001))"
   ]
  },
  {
   "cell_type": "code",
   "execution_count": 66,
   "metadata": {
    "colab": {
     "base_uri": "https://localhost:8080/"
    },
    "id": "lTnXDxMoxUEl",
    "outputId": "214101cd-1609-41b9-8b31-fa3a8ad1447a"
   },
   "outputs": [
    {
     "name": "stdout",
     "output_type": "stream",
     "text": [
      "7708/7708 [==============================] - 123s 16ms/step - loss: 0.0010\n"
     ]
    },
    {
     "data": {
      "text/plain": [
       "<tensorflow.python.keras.callbacks.History at 0x7fe67b9a96d0>"
      ]
     },
     "execution_count": 66,
     "metadata": {
      "tags": []
     },
     "output_type": "execute_result"
    }
   ],
   "source": [
    "model.fit(x_train, y_train, batch_size = 1, epochs = 1)"
   ]
  },
  {
   "cell_type": "code",
   "execution_count": 67,
   "metadata": {
    "id": "XAcu4DDc045j"
   },
   "outputs": [],
   "source": [
    "test_data = scaled_data[training_data - 50:, :]\n",
    "x_test =[]\n",
    "y_test = dataset[training_data:, :]\n",
    "for i in range(50, len(test_data)):\n",
    "  x_test.append(test_data[i-50:i, 0])"
   ]
  },
  {
   "cell_type": "code",
   "execution_count": 68,
   "metadata": {
    "id": "8Z95YXBb1bYe"
   },
   "outputs": [],
   "source": [
    "x_test = np.array(x_test)"
   ]
  },
  {
   "cell_type": "code",
   "execution_count": 69,
   "metadata": {
    "id": "3s-HmpkY1gVR"
   },
   "outputs": [],
   "source": [
    "x_test = np.reshape(x_test, (x_test.shape[0], x_test.shape[1], 1))"
   ]
  },
  {
   "cell_type": "markdown",
   "metadata": {
    "id": "BR_Cz0Mt80SV"
   },
   "source": [
    "Membuat prediksi"
   ]
  },
  {
   "cell_type": "code",
   "execution_count": 70,
   "metadata": {
    "id": "yAiJSLaC1oTe"
   },
   "outputs": [],
   "source": [
    "predictions = model.predict(x_test)\n",
    "predictions = scaler.inverse_transform(predictions)"
   ]
  },
  {
   "cell_type": "markdown",
   "metadata": {
    "id": "aL56Gf8Y82t8"
   },
   "source": [
    "Menghitung Root Mean Square Error"
   ]
  },
  {
   "cell_type": "code",
   "execution_count": 71,
   "metadata": {
    "colab": {
     "base_uri": "https://localhost:8080/"
    },
    "id": "mKGlG8Ju12jK",
    "outputId": "252ecb19-a244-4941-97fd-f786f9e98245"
   },
   "outputs": [
    {
     "data": {
      "text/plain": [
       "1.0827512946441165"
      ]
     },
     "execution_count": 71,
     "metadata": {
      "tags": []
     },
     "output_type": "execute_result"
    }
   ],
   "source": [
    "rmse = np.sqrt(np.mean(predictions-y_test)**2)\n",
    "rmse"
   ]
  },
  {
   "cell_type": "markdown",
   "metadata": {
    "id": "eLim-2BS88w7"
   },
   "source": [
    "Melakukan plot"
   ]
  },
  {
   "cell_type": "code",
   "execution_count": 75,
   "metadata": {
    "colab": {
     "base_uri": "https://localhost:8080/",
     "height": 650
    },
    "id": "MJ64EXRZ4_pV",
    "outputId": "e064a2d3-e8c2-46aa-c550-adb8030bf9cb"
   },
   "outputs": [
    {
     "name": "stderr",
     "output_type": "stream",
     "text": [
      "/usr/local/lib/python3.7/dist-packages/ipykernel_launcher.py:5: SettingWithCopyWarning: \n",
      "A value is trying to be set on a copy of a slice from a DataFrame.\n",
      "Try using .loc[row_indexer,col_indexer] = value instead\n",
      "\n",
      "See the caveats in the documentation: https://pandas.pydata.org/pandas-docs/stable/user_guide/indexing.html#returning-a-view-versus-a-copy\n",
      "  \"\"\"\n"
     ]
    },
    {
     "data": {
      "image/png": "[encoded data removed]",
      "text/plain": [
       "<Figure size 1152x576 with 1 Axes>"
      ]
     },
     "metadata": {
      "needs_background": "light",
      "tags": []
     },
     "output_type": "display_data"
    }
   ],
   "source": [
    "train = data[:training_data]\n",
    "valid = data[training_data:]\n",
    "\n",
    "plt.figure(figsize=(16,8))\n",
    "valid['Predictions'] = predictions\n",
    "plt.title(\"USD to IRP\")\n",
    "plt.xlabel('Date', fontsize=18)\n",
    "plt.ylabel('Price', fontsize=18)\n",
    "plt.plot(train['Price'])\n",
    "plt.plot(valid[['Price', 'Predictions']])\n",
    "plt.legend(['Train', 'Validation', 'Predictions'], loc='lower right')\n",
    "plt.show()"
   ]
  },
  {
   "cell_type": "code",
   "execution_count": 76,
   "metadata": {
    "colab": {
     "base_uri": "https://localhost:8080/",
     "height": 455
    },
    "id": "AmvgFRPJ61Ff",
    "outputId": "11941181-3d78-44bb-9bfe-7023ecddd7dc"
   },
   "outputs": [
    {
     "data": {
      "text/html": [
       "<div>\n",
       "<style scoped>\n",
       "    .dataframe tbody tr th:only-of-type {\n",
       "        vertical-align: middle;\n",
       "    }\n",
       "\n",
       "    .dataframe tbody tr th {\n",
       "        vertical-align: top;\n",
       "    }\n",
       "\n",
       "    .dataframe thead th {\n",
       "        text-align: right;\n",
       "    }\n",
       "</style>\n",
       "<table border=\"1\" class=\"dataframe\">\n",
       "  <thead>\n",
       "    <tr style=\"text-align: right;\">\n",
       "      <th></th>\n",
       "      <th>Price</th>\n",
       "      <th>Predictions</th>\n",
       "    </tr>\n",
       "    <tr>\n",
       "      <th>Date</th>\n",
       "      <th></th>\n",
       "      <th></th>\n",
       "    </tr>\n",
       "  </thead>\n",
       "  <tbody>\n",
       "    <tr>\n",
       "      <th>2010-03-08</th>\n",
       "      <td>45.535</td>\n",
       "      <td>45.763058</td>\n",
       "    </tr>\n",
       "    <tr>\n",
       "      <th>2010-03-09</th>\n",
       "      <td>45.590</td>\n",
       "      <td>45.682236</td>\n",
       "    </tr>\n",
       "    <tr>\n",
       "      <th>2010-03-10</th>\n",
       "      <td>45.420</td>\n",
       "      <td>45.622440</td>\n",
       "    </tr>\n",
       "    <tr>\n",
       "      <th>2010-03-11</th>\n",
       "      <td>45.515</td>\n",
       "      <td>45.558372</td>\n",
       "    </tr>\n",
       "    <tr>\n",
       "      <th>2010-03-12</th>\n",
       "      <td>45.465</td>\n",
       "      <td>45.513451</td>\n",
       "    </tr>\n",
       "    <tr>\n",
       "      <th>...</th>\n",
       "      <td>...</td>\n",
       "      <td>...</td>\n",
       "    </tr>\n",
       "    <tr>\n",
       "      <th>2017-08-04</th>\n",
       "      <td>63.675</td>\n",
       "      <td>62.446911</td>\n",
       "    </tr>\n",
       "    <tr>\n",
       "      <th>2017-08-07</th>\n",
       "      <td>63.840</td>\n",
       "      <td>62.370502</td>\n",
       "    </tr>\n",
       "    <tr>\n",
       "      <th>2017-08-08</th>\n",
       "      <td>63.692</td>\n",
       "      <td>62.327053</td>\n",
       "    </tr>\n",
       "    <tr>\n",
       "      <th>2017-08-09</th>\n",
       "      <td>63.860</td>\n",
       "      <td>62.282867</td>\n",
       "    </tr>\n",
       "    <tr>\n",
       "      <th>2017-08-10</th>\n",
       "      <td>64.165</td>\n",
       "      <td>62.267353</td>\n",
       "    </tr>\n",
       "  </tbody>\n",
       "</table>\n",
       "<p>1939 rows × 2 columns</p>\n",
       "</div>"
      ],
      "text/plain": [
       "             Price  Predictions\n",
       "Date                           \n",
       "2010-03-08  45.535    45.763058\n",
       "2010-03-09  45.590    45.682236\n",
       "2010-03-10  45.420    45.622440\n",
       "2010-03-11  45.515    45.558372\n",
       "2010-03-12  45.465    45.513451\n",
       "...            ...          ...\n",
       "2017-08-04  63.675    62.446911\n",
       "2017-08-07  63.840    62.370502\n",
       "2017-08-08  63.692    62.327053\n",
       "2017-08-09  63.860    62.282867\n",
       "2017-08-10  64.165    62.267353\n",
       "\n",
       "[1939 rows x 2 columns]"
      ]
     },
     "execution_count": 76,
     "metadata": {
      "tags": []
     },
     "output_type": "execute_result"
    }
   ],
   "source": [
    "valid"
   ]
  }
 ],
 "metadata": {
  "colab": {
   "collapsed_sections": [],
   "name": "No4UTS-LSTM.ipynb",
   "provenance": []
  },
  "kernelspec": {
   "display_name": "Python 3",
   "language": "python",
   "name": "python3"
  },
  "language_info": {
   "codemirror_mode": {
    "name": "ipython",
    "version": 3
   },
   "file_extension": ".py",
   "mimetype": "text/x-python",
   "name": "python",
   "nbconvert_exporter": "python",
   "pygments_lexer": "ipython3",
   "version": "3.7.6"
  }
 },
 "nbformat": 4,
 "nbformat_minor": 1
}
